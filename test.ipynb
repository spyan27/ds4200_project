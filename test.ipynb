{
 "cells": [
  {
   "cell_type": "code",
   "execution_count": null,
   "id": "259b4e52",
   "metadata": {},
   "outputs": [],
   "source": [
    "import pandas as pd \n",
    "import matplotlib.pyplot as plt\n",
    "import seaborn as sns\n",
    "import plotly.express as px\n",
    "\n",
    "\n",
    "# ----- need to convert yearly data into a better way "
   ]
  },
  {
   "cell_type": "code",
   "execution_count": null,
   "id": "5c91b0b4",
   "metadata": {},
   "outputs": [
    {
     "data": {
      "text/plain": [
       "(14309, 46)"
      ]
     },
     "execution_count": 2,
     "metadata": {},
     "output_type": "execute_result"
    }
   ],
   "source": [
    "# load in data\n",
    "df = pd.read_csv(\"medicare_drug_spending.csv\")\n",
    "df.shape"
   ]
  },
  {
   "cell_type": "code",
   "execution_count": 21,
   "id": "994a756f",
   "metadata": {},
   "outputs": [
    {
     "data": {
      "text/html": [
       "<div>\n",
       "<style scoped>\n",
       "    .dataframe tbody tr th:only-of-type {\n",
       "        vertical-align: middle;\n",
       "    }\n",
       "\n",
       "    .dataframe tbody tr th {\n",
       "        vertical-align: top;\n",
       "    }\n",
       "\n",
       "    .dataframe thead th {\n",
       "        text-align: right;\n",
       "    }\n",
       "</style>\n",
       "<table border=\"1\" class=\"dataframe\">\n",
       "  <thead>\n",
       "    <tr style=\"text-align: right;\">\n",
       "      <th></th>\n",
       "      <th>Brnd_Name</th>\n",
       "      <th>Gnrc_Name</th>\n",
       "      <th>Tot_Mftr</th>\n",
       "      <th>Mftr_Name</th>\n",
       "      <th>Tot_Spndng_2019</th>\n",
       "      <th>Tot_Dsg_Unts_2019</th>\n",
       "      <th>Tot_Clms_2019</th>\n",
       "      <th>Tot_Benes_2019</th>\n",
       "      <th>Avg_Spnd_Per_Dsg_Unt_Wghtd_2019</th>\n",
       "      <th>Avg_Spnd_Per_Clm_2019</th>\n",
       "      <th>...</th>\n",
       "      <th>Tot_Spndng_2023</th>\n",
       "      <th>Tot_Dsg_Unts_2023</th>\n",
       "      <th>Tot_Clms_2023</th>\n",
       "      <th>Tot_Benes_2023</th>\n",
       "      <th>Avg_Spnd_Per_Dsg_Unt_Wghtd_2023</th>\n",
       "      <th>Avg_Spnd_Per_Clm_2023</th>\n",
       "      <th>Avg_Spnd_Per_Bene_2023</th>\n",
       "      <th>Outlier_Flag_2023</th>\n",
       "      <th>Chg_Avg_Spnd_Per_Dsg_Unt_22_23</th>\n",
       "      <th>CAGR_Avg_Spnd_Per_Dsg_Unt_19_23</th>\n",
       "    </tr>\n",
       "  </thead>\n",
       "  <tbody>\n",
       "    <tr>\n",
       "      <th>21</th>\n",
       "      <td>Abilify Mycite</td>\n",
       "      <td>Aripiprazole</td>\n",
       "      <td>1</td>\n",
       "      <td>Overall</td>\n",
       "      <td>40552.86</td>\n",
       "      <td>720.0</td>\n",
       "      <td>24.0</td>\n",
       "      <td>NaN</td>\n",
       "      <td>56.323417</td>\n",
       "      <td>1689.702500</td>\n",
       "      <td>...</td>\n",
       "      <td>7.539726e+04</td>\n",
       "      <td>1320.0</td>\n",
       "      <td>44</td>\n",
       "      <td>NaN</td>\n",
       "      <td>57.119136</td>\n",
       "      <td>1713.574091</td>\n",
       "      <td>NaN</td>\n",
       "      <td>1.0</td>\n",
       "      <td>-0.002723</td>\n",
       "      <td>0.003513</td>\n",
       "    </tr>\n",
       "    <tr>\n",
       "      <th>22</th>\n",
       "      <td>Abilify Mycite</td>\n",
       "      <td>Aripiprazole</td>\n",
       "      <td>1</td>\n",
       "      <td>Otsuka America</td>\n",
       "      <td>40552.86</td>\n",
       "      <td>720.0</td>\n",
       "      <td>24.0</td>\n",
       "      <td>NaN</td>\n",
       "      <td>56.323417</td>\n",
       "      <td>1689.702500</td>\n",
       "      <td>...</td>\n",
       "      <td>7.539726e+04</td>\n",
       "      <td>1320.0</td>\n",
       "      <td>44</td>\n",
       "      <td>NaN</td>\n",
       "      <td>57.119136</td>\n",
       "      <td>1713.574091</td>\n",
       "      <td>NaN</td>\n",
       "      <td>1.0</td>\n",
       "      <td>-0.002723</td>\n",
       "      <td>0.003513</td>\n",
       "    </tr>\n",
       "    <tr>\n",
       "      <th>30</th>\n",
       "      <td>Abiraterone Acetate</td>\n",
       "      <td>Abiraterone Acetate</td>\n",
       "      <td>1</td>\n",
       "      <td>Florida Pharmac</td>\n",
       "      <td>NaN</td>\n",
       "      <td>NaN</td>\n",
       "      <td>NaN</td>\n",
       "      <td>NaN</td>\n",
       "      <td>NaN</td>\n",
       "      <td>NaN</td>\n",
       "      <td>...</td>\n",
       "      <td>2.054340e+07</td>\n",
       "      <td>1221311.0</td>\n",
       "      <td>11038</td>\n",
       "      <td>4473.0</td>\n",
       "      <td>17.896072</td>\n",
       "      <td>1861.152127</td>\n",
       "      <td>4592.755909</td>\n",
       "      <td>1.0</td>\n",
       "      <td>9.749039</td>\n",
       "      <td>9.749039</td>\n",
       "    </tr>\n",
       "    <tr>\n",
       "      <th>34</th>\n",
       "      <td>Abiraterone Acetate</td>\n",
       "      <td>Abiraterone Acetate</td>\n",
       "      <td>1</td>\n",
       "      <td>Novadoz Pharmac</td>\n",
       "      <td>20635781.20</td>\n",
       "      <td>564258.0</td>\n",
       "      <td>4957.0</td>\n",
       "      <td>2138.0</td>\n",
       "      <td>36.571535</td>\n",
       "      <td>4162.957676</td>\n",
       "      <td>...</td>\n",
       "      <td>2.240263e+08</td>\n",
       "      <td>11669322.0</td>\n",
       "      <td>104009</td>\n",
       "      <td>23225.0</td>\n",
       "      <td>19.197882</td>\n",
       "      <td>2153.912292</td>\n",
       "      <td>9645.910164</td>\n",
       "      <td>1.0</td>\n",
       "      <td>-0.182005</td>\n",
       "      <td>-0.148808</td>\n",
       "    </tr>\n",
       "    <tr>\n",
       "      <th>39</th>\n",
       "      <td>Abiraterone Acetate</td>\n",
       "      <td>Abiraterone Acetate</td>\n",
       "      <td>1</td>\n",
       "      <td>Glenmark Pharma</td>\n",
       "      <td>NaN</td>\n",
       "      <td>NaN</td>\n",
       "      <td>NaN</td>\n",
       "      <td>NaN</td>\n",
       "      <td>NaN</td>\n",
       "      <td>NaN</td>\n",
       "      <td>...</td>\n",
       "      <td>5.970219e+07</td>\n",
       "      <td>2504970.0</td>\n",
       "      <td>23428</td>\n",
       "      <td>7724.0</td>\n",
       "      <td>29.436415</td>\n",
       "      <td>2548.326564</td>\n",
       "      <td>7729.440023</td>\n",
       "      <td>1.0</td>\n",
       "      <td>-0.130599</td>\n",
       "      <td>0.154831</td>\n",
       "    </tr>\n",
       "    <tr>\n",
       "      <th>...</th>\n",
       "      <td>...</td>\n",
       "      <td>...</td>\n",
       "      <td>...</td>\n",
       "      <td>...</td>\n",
       "      <td>...</td>\n",
       "      <td>...</td>\n",
       "      <td>...</td>\n",
       "      <td>...</td>\n",
       "      <td>...</td>\n",
       "      <td>...</td>\n",
       "      <td>...</td>\n",
       "      <td>...</td>\n",
       "      <td>...</td>\n",
       "      <td>...</td>\n",
       "      <td>...</td>\n",
       "      <td>...</td>\n",
       "      <td>...</td>\n",
       "      <td>...</td>\n",
       "      <td>...</td>\n",
       "      <td>...</td>\n",
       "      <td>...</td>\n",
       "    </tr>\n",
       "    <tr>\n",
       "      <th>14291</th>\n",
       "      <td>Zynlonta</td>\n",
       "      <td>Loncastuximab Tesirine-Lpyl</td>\n",
       "      <td>1</td>\n",
       "      <td>Overall</td>\n",
       "      <td>NaN</td>\n",
       "      <td>NaN</td>\n",
       "      <td>NaN</td>\n",
       "      <td>NaN</td>\n",
       "      <td>NaN</td>\n",
       "      <td>NaN</td>\n",
       "      <td>...</td>\n",
       "      <td>6.749259e+05</td>\n",
       "      <td>26.0</td>\n",
       "      <td>22</td>\n",
       "      <td>NaN</td>\n",
       "      <td>25958.690000</td>\n",
       "      <td>30678.451818</td>\n",
       "      <td>NaN</td>\n",
       "      <td>1.0</td>\n",
       "      <td>0.040768</td>\n",
       "      <td>0.040768</td>\n",
       "    </tr>\n",
       "    <tr>\n",
       "      <th>14292</th>\n",
       "      <td>Zynlonta</td>\n",
       "      <td>Loncastuximab Tesirine-Lpyl</td>\n",
       "      <td>1</td>\n",
       "      <td>Adc Therapeutic</td>\n",
       "      <td>NaN</td>\n",
       "      <td>NaN</td>\n",
       "      <td>NaN</td>\n",
       "      <td>NaN</td>\n",
       "      <td>NaN</td>\n",
       "      <td>NaN</td>\n",
       "      <td>...</td>\n",
       "      <td>6.749259e+05</td>\n",
       "      <td>26.0</td>\n",
       "      <td>22</td>\n",
       "      <td>NaN</td>\n",
       "      <td>25958.690000</td>\n",
       "      <td>30678.451818</td>\n",
       "      <td>NaN</td>\n",
       "      <td>1.0</td>\n",
       "      <td>0.040768</td>\n",
       "      <td>0.040768</td>\n",
       "    </tr>\n",
       "    <tr>\n",
       "      <th>14304</th>\n",
       "      <td>Zyvox</td>\n",
       "      <td>Linezolid</td>\n",
       "      <td>1</td>\n",
       "      <td>Overall</td>\n",
       "      <td>652488.55</td>\n",
       "      <td>5419.0</td>\n",
       "      <td>110.0</td>\n",
       "      <td>69.0</td>\n",
       "      <td>213.322618</td>\n",
       "      <td>5931.714091</td>\n",
       "      <td>...</td>\n",
       "      <td>5.008586e+04</td>\n",
       "      <td>670.0</td>\n",
       "      <td>30</td>\n",
       "      <td>26.0</td>\n",
       "      <td>74.755015</td>\n",
       "      <td>1669.528667</td>\n",
       "      <td>1926.379231</td>\n",
       "      <td>1.0</td>\n",
       "      <td>-0.138851</td>\n",
       "      <td>-0.230602</td>\n",
       "    </tr>\n",
       "    <tr>\n",
       "      <th>14305</th>\n",
       "      <td>Zyvox</td>\n",
       "      <td>Linezolid</td>\n",
       "      <td>1</td>\n",
       "      <td>Pharmacia-Upjhn</td>\n",
       "      <td>652488.55</td>\n",
       "      <td>5419.0</td>\n",
       "      <td>110.0</td>\n",
       "      <td>69.0</td>\n",
       "      <td>213.322618</td>\n",
       "      <td>5931.714091</td>\n",
       "      <td>...</td>\n",
       "      <td>5.008586e+04</td>\n",
       "      <td>670.0</td>\n",
       "      <td>30</td>\n",
       "      <td>26.0</td>\n",
       "      <td>74.755015</td>\n",
       "      <td>1669.528667</td>\n",
       "      <td>1926.379231</td>\n",
       "      <td>1.0</td>\n",
       "      <td>-0.138851</td>\n",
       "      <td>-0.230602</td>\n",
       "    </tr>\n",
       "    <tr>\n",
       "      <th>14308</th>\n",
       "      <td>Zyvox</td>\n",
       "      <td>Linezolid In Dextrose 5%</td>\n",
       "      <td>1</td>\n",
       "      <td>Phar-Prep/Pfize</td>\n",
       "      <td>19122.83</td>\n",
       "      <td>110400.0</td>\n",
       "      <td>44.0</td>\n",
       "      <td>20.0</td>\n",
       "      <td>0.173214</td>\n",
       "      <td>434.609773</td>\n",
       "      <td>...</td>\n",
       "      <td>7.396500e+03</td>\n",
       "      <td>48300.0</td>\n",
       "      <td>26</td>\n",
       "      <td>NaN</td>\n",
       "      <td>0.153137</td>\n",
       "      <td>284.480769</td>\n",
       "      <td>NaN</td>\n",
       "      <td>1.0</td>\n",
       "      <td>-0.086898</td>\n",
       "      <td>-0.030330</td>\n",
       "    </tr>\n",
       "  </tbody>\n",
       "</table>\n",
       "<p>1872 rows × 46 columns</p>\n",
       "</div>"
      ],
      "text/plain": [
       "                 Brnd_Name                    Gnrc_Name  Tot_Mftr  \\\n",
       "21          Abilify Mycite                 Aripiprazole         1   \n",
       "22          Abilify Mycite                 Aripiprazole         1   \n",
       "30     Abiraterone Acetate          Abiraterone Acetate         1   \n",
       "34     Abiraterone Acetate          Abiraterone Acetate         1   \n",
       "39     Abiraterone Acetate          Abiraterone Acetate         1   \n",
       "...                    ...                          ...       ...   \n",
       "14291             Zynlonta  Loncastuximab Tesirine-Lpyl         1   \n",
       "14292             Zynlonta  Loncastuximab Tesirine-Lpyl         1   \n",
       "14304                Zyvox                    Linezolid         1   \n",
       "14305                Zyvox                    Linezolid         1   \n",
       "14308                Zyvox     Linezolid In Dextrose 5%         1   \n",
       "\n",
       "             Mftr_Name  Tot_Spndng_2019  Tot_Dsg_Unts_2019  Tot_Clms_2019  \\\n",
       "21             Overall         40552.86              720.0           24.0   \n",
       "22      Otsuka America         40552.86              720.0           24.0   \n",
       "30     Florida Pharmac              NaN                NaN            NaN   \n",
       "34     Novadoz Pharmac      20635781.20           564258.0         4957.0   \n",
       "39     Glenmark Pharma              NaN                NaN            NaN   \n",
       "...                ...              ...                ...            ...   \n",
       "14291          Overall              NaN                NaN            NaN   \n",
       "14292  Adc Therapeutic              NaN                NaN            NaN   \n",
       "14304          Overall        652488.55             5419.0          110.0   \n",
       "14305  Pharmacia-Upjhn        652488.55             5419.0          110.0   \n",
       "14308  Phar-Prep/Pfize         19122.83           110400.0           44.0   \n",
       "\n",
       "       Tot_Benes_2019  Avg_Spnd_Per_Dsg_Unt_Wghtd_2019  Avg_Spnd_Per_Clm_2019  \\\n",
       "21                NaN                        56.323417            1689.702500   \n",
       "22                NaN                        56.323417            1689.702500   \n",
       "30                NaN                              NaN                    NaN   \n",
       "34             2138.0                        36.571535            4162.957676   \n",
       "39                NaN                              NaN                    NaN   \n",
       "...               ...                              ...                    ...   \n",
       "14291             NaN                              NaN                    NaN   \n",
       "14292             NaN                              NaN                    NaN   \n",
       "14304            69.0                       213.322618            5931.714091   \n",
       "14305            69.0                       213.322618            5931.714091   \n",
       "14308            20.0                         0.173214             434.609773   \n",
       "\n",
       "       ...  Tot_Spndng_2023  Tot_Dsg_Unts_2023  Tot_Clms_2023  Tot_Benes_2023  \\\n",
       "21     ...     7.539726e+04             1320.0             44             NaN   \n",
       "22     ...     7.539726e+04             1320.0             44             NaN   \n",
       "30     ...     2.054340e+07          1221311.0          11038          4473.0   \n",
       "34     ...     2.240263e+08         11669322.0         104009         23225.0   \n",
       "39     ...     5.970219e+07          2504970.0          23428          7724.0   \n",
       "...    ...              ...                ...            ...             ...   \n",
       "14291  ...     6.749259e+05               26.0             22             NaN   \n",
       "14292  ...     6.749259e+05               26.0             22             NaN   \n",
       "14304  ...     5.008586e+04              670.0             30            26.0   \n",
       "14305  ...     5.008586e+04              670.0             30            26.0   \n",
       "14308  ...     7.396500e+03            48300.0             26             NaN   \n",
       "\n",
       "       Avg_Spnd_Per_Dsg_Unt_Wghtd_2023  Avg_Spnd_Per_Clm_2023  \\\n",
       "21                           57.119136            1713.574091   \n",
       "22                           57.119136            1713.574091   \n",
       "30                           17.896072            1861.152127   \n",
       "34                           19.197882            2153.912292   \n",
       "39                           29.436415            2548.326564   \n",
       "...                                ...                    ...   \n",
       "14291                     25958.690000           30678.451818   \n",
       "14292                     25958.690000           30678.451818   \n",
       "14304                        74.755015            1669.528667   \n",
       "14305                        74.755015            1669.528667   \n",
       "14308                         0.153137             284.480769   \n",
       "\n",
       "       Avg_Spnd_Per_Bene_2023  Outlier_Flag_2023  \\\n",
       "21                        NaN                1.0   \n",
       "22                        NaN                1.0   \n",
       "30                4592.755909                1.0   \n",
       "34                9645.910164                1.0   \n",
       "39                7729.440023                1.0   \n",
       "...                       ...                ...   \n",
       "14291                     NaN                1.0   \n",
       "14292                     NaN                1.0   \n",
       "14304             1926.379231                1.0   \n",
       "14305             1926.379231                1.0   \n",
       "14308                     NaN                1.0   \n",
       "\n",
       "       Chg_Avg_Spnd_Per_Dsg_Unt_22_23  CAGR_Avg_Spnd_Per_Dsg_Unt_19_23  \n",
       "21                          -0.002723                         0.003513  \n",
       "22                          -0.002723                         0.003513  \n",
       "30                           9.749039                         9.749039  \n",
       "34                          -0.182005                        -0.148808  \n",
       "39                          -0.130599                         0.154831  \n",
       "...                               ...                              ...  \n",
       "14291                        0.040768                         0.040768  \n",
       "14292                        0.040768                         0.040768  \n",
       "14304                       -0.138851                        -0.230602  \n",
       "14305                       -0.138851                        -0.230602  \n",
       "14308                       -0.086898                        -0.030330  \n",
       "\n",
       "[1872 rows x 46 columns]"
      ]
     },
     "execution_count": 21,
     "metadata": {},
     "output_type": "execute_result"
    }
   ],
   "source": [
    "# filter & focus on 2023 data & overall data  \n",
    "outlier_23_df = df[df['Outlier_Flag_2023'] == 1]\n",
    "outlier_23_df"
   ]
  },
  {
   "cell_type": "code",
   "execution_count": 22,
   "id": "bd398853",
   "metadata": {},
   "outputs": [
    {
     "data": {
      "text/plain": [
       "Index(['Brnd_Name', 'Gnrc_Name', 'Tot_Mftr', 'Mftr_Name', 'Tot_Spndng_2019',\n",
       "       'Tot_Dsg_Unts_2019', 'Tot_Clms_2019', 'Tot_Benes_2019',\n",
       "       'Avg_Spnd_Per_Dsg_Unt_Wghtd_2019', 'Avg_Spnd_Per_Clm_2019',\n",
       "       'Avg_Spnd_Per_Bene_2019', 'Outlier_Flag_2019', 'Tot_Spndng_2020',\n",
       "       'Tot_Dsg_Unts_2020', 'Tot_Clms_2020', 'Tot_Benes_2020',\n",
       "       'Avg_Spnd_Per_Dsg_Unt_Wghtd_2020', 'Avg_Spnd_Per_Clm_2020',\n",
       "       'Avg_Spnd_Per_Bene_2020', 'Outlier_Flag_2020', 'Tot_Spndng_2021',\n",
       "       'Tot_Dsg_Unts_2021', 'Tot_Clms_2021', 'Tot_Benes_2021',\n",
       "       'Avg_Spnd_Per_Dsg_Unt_Wghtd_2021', 'Avg_Spnd_Per_Clm_2021',\n",
       "       'Avg_Spnd_Per_Bene_2021', 'Outlier_Flag_2021', 'Tot_Spndng_2022',\n",
       "       'Tot_Dsg_Unts_2022', 'Tot_Clms_2022', 'Tot_Benes_2022',\n",
       "       'Avg_Spnd_Per_Dsg_Unt_Wghtd_2022', 'Avg_Spnd_Per_Clm_2022',\n",
       "       'Avg_Spnd_Per_Bene_2022', 'Outlier_Flag_2022', 'Tot_Spndng_2023',\n",
       "       'Tot_Dsg_Unts_2023', 'Tot_Clms_2023', 'Tot_Benes_2023',\n",
       "       'Avg_Spnd_Per_Dsg_Unt_Wghtd_2023', 'Avg_Spnd_Per_Clm_2023',\n",
       "       'Avg_Spnd_Per_Bene_2023', 'Outlier_Flag_2023',\n",
       "       'Chg_Avg_Spnd_Per_Dsg_Unt_22_23', 'CAGR_Avg_Spnd_Per_Dsg_Unt_19_23'],\n",
       "      dtype='object')"
      ]
     },
     "execution_count": 22,
     "metadata": {},
     "output_type": "execute_result"
    }
   ],
   "source": [
    "outlier_23_df.columns"
   ]
  },
  {
   "cell_type": "code",
   "execution_count": null,
   "id": "684d7737",
   "metadata": {},
   "outputs": [
    {
     "data": {
      "application/vnd.plotly.v1+json": {
       "config": {
        "plotlyServerURL": "https://plot.ly"
       },
       "data": [
        {
         "customdata": [
          [
           "Abilify Mycite",
           "Aripiprazole",
           "Overall"
          ],
          [
           "Absorica",
           "Isotretinoin",
           "Overall"
          ],
          [
           "Absorica Ld",
           "Isotretinoin, Micronized",
           "Overall"
          ],
          [
           "Acanya",
           "Clindamycin Phos/Benzoyl Perox",
           "Overall"
          ],
          [
           "Accolate",
           "Zafirlukast",
           "Overall"
          ],
          [
           "Acetazolamide Sodium",
           "Acetazolamide Sodium",
           "Overall"
          ],
          [
           "Acular",
           "Ketorolac Tromethamine",
           "Overall"
          ],
          [
           "Acular Ls",
           "Ketorolac Tromethamine",
           "Overall"
          ],
          [
           "Adalimumab-Adaz(Cf)",
           "Adalimumab-Adaz",
           "Overall"
          ],
          [
           "Aemcolo",
           "Rifamycin Sodium",
           "Overall"
          ],
          [
           "Akeega",
           "Niraparib/Abiraterone",
           "Overall"
          ],
          [
           "Akten",
           "Lidocaine HCl/PF",
           "Overall"
          ],
          [
           "Albumin (Human)",
           "Albumin Human",
           "Overall"
          ],
          [
           "Alburx",
           "Albumin Human",
           "Overall"
          ],
          [
           "Albutein",
           "Albumin Human",
           "Overall"
          ],
          [
           "Alimta",
           "Pemetrexed Disodium",
           "Overall"
          ],
          [
           "Allzital",
           "Butalbital/Acetaminophen",
           "Overall"
          ],
          [
           "Alvesco",
           "Ciclesonide",
           "Overall"
          ],
          [
           "Ambisome",
           "Amphotericin B Liposome",
           "Overall"
          ],
          [
           "Amcinonide",
           "Amcinonide",
           "Overall"
          ],
          [
           "Amethia",
           "L-Norgest/E.Estradiol-E.Estrad",
           "Overall"
          ],
          [
           "Amicar",
           "Aminocaproic Acid",
           "Overall"
          ],
          [
           "Amnesteem",
           "Isotretinoin",
           "Overall"
          ],
          [
           "Amphotericin B Liposome",
           "Amphotericin B Liposome",
           "Overall"
          ],
          [
           "Ampicillin Sodium*",
           "Ampicillin Sodium",
           "Overall"
          ],
          [
           "Analpram HC*",
           "Hydrocortisone/Pramoxine",
           "Overall"
          ],
          [
           "Anaspaz",
           "Hyoscyamine Sulfate",
           "Overall"
          ],
          [
           "Antivert",
           "Meclizine HCl",
           "Overall"
          ],
          [
           "Apexicon E",
           "Diflorasone Diacet/Emollient",
           "Overall"
          ],
          [
           "Aripiprazole",
           "Aripiprazole",
           "Overall"
          ],
          [
           "Arixtra",
           "Fondaparinux Sodium",
           "Overall"
          ],
          [
           "Assure Id Insulin Safety",
           "Syringe,Needle,Insuln,Safe,1ml",
           "Overall"
          ],
          [
           "Assure Id Insulin Safety",
           "Syringe,Needle,Insuln,Sf 0.5ml",
           "Overall"
          ],
          [
           "Atripla",
           "Efavirenz/Emtricit/Tenofovr Df",
           "Overall"
          ],
          [
           "Autoshield Pen Needle",
           "Pen Needle, Diabetic, Safety",
           "Overall"
          ],
          [
           "Avycaz",
           "Ceftazidime/Avibactam",
           "Overall"
          ],
          [
           "Aygestin",
           "Norethindrone Acetate",
           "Overall"
          ],
          [
           "Azactam",
           "Aztreonam",
           "Overall"
          ],
          [
           "Aztreonam",
           "Aztreonam",
           "Overall"
          ],
          [
           "Bactrim",
           "Sulfamethoxazole/Trimethoprim",
           "Overall"
          ],
          [
           "Bendamustine HCl",
           "Bendamustine HCl",
           "Overall"
          ],
          [
           "Bentyl",
           "Dicyclomine HCl",
           "Overall"
          ],
          [
           "Besponsa",
           "Inotuzumab Ozogamicin",
           "Overall"
          ],
          [
           "Bethkis",
           "Tobramycin",
           "Overall"
          ],
          [
           "Bimzelx",
           "Bimekizumab-Bkzx",
           "Overall"
          ],
          [
           "Budesonide EC",
           "Budesonide",
           "Overall"
          ],
          [
           "Bylvay",
           "Odevixibat",
           "Overall"
          ],
          [
           "Cancidas",
           "Caspofungin Acetate",
           "Overall"
          ],
          [
           "Capecitabine",
           "Capecitabine",
           "Overall"
          ],
          [
           "Carac",
           "Fluorouracil",
           "Overall"
          ],
          [
           "Cardizem",
           "Diltiazem HCl",
           "Overall"
          ],
          [
           "Caretouch Pen Needle",
           "Pen Needle, Diabetic",
           "Overall"
          ],
          [
           "Carnitor*",
           "Levocarnitine",
           "Overall"
          ],
          [
           "Cefazolin Sodium*",
           "Cefazolin Sodium",
           "Overall"
          ],
          [
           "Cefazolin Sodium-Dextrose",
           "Cefazolin Sodium/Dextrose,Iso",
           "Overall"
          ],
          [
           "Cefotetan",
           "Cefotetan Disodium",
           "Overall"
          ],
          [
           "Cefoxitin",
           "Cefoxitin Sodium",
           "Overall"
          ],
          [
           "Cefoxitin Sodium",
           "Cefoxitin Sodium/Dextrose,Iso",
           "Overall"
          ],
          [
           "Ceftazidime",
           "Ceftazidime",
           "Overall"
          ],
          [
           "Ceftazidime",
           "Ceftazidime In Dextrose5%Water",
           "Overall"
          ],
          [
           "Ceftriaxone*",
           "Ceftriaxone Sodium",
           "Overall"
          ],
          [
           "Cefuroxime Sodium*",
           "Cefuroxime Sodium",
           "Overall"
          ],
          [
           "Children'S Multivitamin",
           "Pediatric Multivitamin No.17",
           "Overall"
          ],
          [
           "Chlordiazepoxide-Clidinium",
           "Chlordiazepoxide/Clidinium Br",
           "Overall"
          ],
          [
           "Ciclopirox",
           "Ciclopirox/Urea/Camph/Men/Euc",
           "Overall"
          ],
          [
           "Cimerli",
           "Ranibizumab-Eqrn",
           "Overall"
          ],
          [
           "Cinvanti",
           "Aprepitant",
           "Overall"
          ],
          [
           "Citranatal B-Calm",
           "Prenatal 48/Iron/Folic Acid/B6",
           "Overall"
          ],
          [
           "Cleocin HCl",
           "Clindamycin HCl",
           "Overall"
          ],
          [
           "Cleocin Phosphate",
           "Clindamycin Phosphate",
           "Overall"
          ],
          [
           "Clindacin",
           "Clindamycin Phosphate",
           "Overall"
          ],
          [
           "Clindacin P",
           "Clindamycin Phosphate",
           "Overall"
          ],
          [
           "Clinimix",
           "Amino Acids 4.25 %/Dextrose 5%",
           "Overall"
          ],
          [
           "Clinimix",
           "Amino Acids 4.25%/Dextrose 10%",
           "Overall"
          ],
          [
           "Clinimix",
           "Amino Acids 5 %/Dextrose 20 %",
           "Overall"
          ],
          [
           "Clinimix E",
           "Aa 5 %/Calcium/Lytes/Dext 20 %",
           "Overall"
          ],
          [
           "Clinimix E",
           "Aa 5%/D15w/Electrolytes",
           "Overall"
          ],
          [
           "Clinimix E",
           "Amino Ac 4.25% No.1/D5W/Lytes",
           "Overall"
          ],
          [
           "Co Q-10",
           "Ubidecarenone",
           "Overall"
          ],
          [
           "Comtan",
           "Entacapone",
           "Overall"
          ],
          [
           "Concept DHA",
           "Mvn-Min75/Iron/Iron Ps/Om3/DHA",
           "Overall"
          ],
          [
           "Condylox",
           "Podofilox",
           "Overall"
          ],
          [
           "Conzip",
           "Tramadol HCl",
           "Overall"
          ],
          [
           "Cortenema",
           "Hydrocortisone",
           "Overall"
          ],
          [
           "Cuvrior",
           "Trientine Tetrahydrochloride",
           "Overall"
          ],
          [
           "Cyclomydril",
           "Cyclopentolate/Phenylephrine",
           "Overall"
          ],
          [
           "Cycloserine",
           "Cycloserine",
           "Overall"
          ],
          [
           "Cytarabine",
           "Cytarabine",
           "Overall"
          ],
          [
           "Dacarbazine",
           "Dacarbazine",
           "Overall"
          ],
          [
           "Dalfampridine ER",
           "Dalfampridine",
           "Overall"
          ],
          [
           "Dalvance",
           "Dalbavancin HCl",
           "Overall"
          ],
          [
           "Daptomycin",
           "Daptomycin",
           "Overall"
          ],
          [
           "Ddavp*",
           "Desmopressin Acetate",
           "Overall"
          ],
          [
           "Demser",
           "Metyrosine",
           "Overall"
          ],
          [
           "Depo-Provera",
           "Medroxyprogesterone Acetate",
           "Overall"
          ],
          [
           "Dermacinrx Lidocan",
           "Lidocaine",
           "Overall"
          ],
          [
           "Dermacinrx Lidorex",
           "Lidocaine HCl",
           "Overall"
          ],
          [
           "Dermacinrx Prenatrix",
           "Prenatal Vit No.170/Iron/Folic",
           "Overall"
          ],
          [
           "Dermacinrx Pretrate",
           "Prenatal Vit No.170/Iron/Folic",
           "Overall"
          ],
          [
           "Dexamethasone Sodium Phosphate",
           "Dexamethasone Sodium Phosp/PF",
           "Overall"
          ],
          [
           "Diastat Acudial",
           "Diazepam",
           "Overall"
          ],
          [
           "Dichlorphenamide",
           "Dichlorphenamide",
           "Overall"
          ],
          [
           "Differin",
           "Adapalene",
           "Overall"
          ],
          [
           "Diflucan",
           "Fluconazole",
           "Overall"
          ],
          [
           "Digitek",
           "Digoxin",
           "Overall"
          ],
          [
           "Dilaudid",
           "Hydromorphone HCl/PF",
           "Overall"
          ],
          [
           "Dimethyl Fumarate",
           "Dimethyl Fumarate",
           "Overall"
          ],
          [
           "Diskets",
           "Methadone HCl",
           "Overall"
          ],
          [
           "Doryx",
           "Doxycycline Hyclate",
           "Overall"
          ],
          [
           "Doxil",
           "Doxorubicin HCl PEG-Liposomal",
           "Overall"
          ],
          [
           "Doxorubicin HCl Liposome",
           "Doxorubicin HCl PEG-Liposomal",
           "Overall"
          ],
          [
           "Doxy 100",
           "Doxycycline Hyclate",
           "Overall"
          ],
          [
           "Drizalma Sprinkle",
           "Duloxetine HCl",
           "Overall"
          ],
          [
           "Droperidol",
           "Droperidol",
           "Overall"
          ],
          [
           "Duaklir Pressair",
           "Aclidinium Brom/Formoterol Fum",
           "Overall"
          ],
          [
           "Easy Touch Fliplock Insulin",
           "Syringe,Needle,Insuln,Safe,1ml",
           "Overall"
          ],
          [
           "Easy Touch Sheathlock Insulin",
           "Syringe,Needle,Insuln,Safe,1ml",
           "Overall"
          ],
          [
           "Eletriptan HBr",
           "Eletriptan Hydrobromide",
           "Overall"
          ],
          [
           "Elfabrio",
           "PEGunigalsidase Alfa-Iwxj",
           "Overall"
          ],
          [
           "Elfolate",
           "Levomefolate Calcium",
           "Overall"
          ],
          [
           "Elitek",
           "Rasburicase",
           "Overall"
          ],
          [
           "Elixophyllin",
           "Theophylline Anhydrous",
           "Overall"
          ],
          [
           "Ella",
           "Ulipristal Acetate",
           "Overall"
          ],
          [
           "Emend",
           "Aprepitant",
           "Overall"
          ],
          [
           "Emtricitabine-Tenofovir Disop",
           "Emtricitabine/Tenofovir (Tdf)",
           "Overall"
          ],
          [
           "Enalaprilat",
           "Enalaprilat Dihydrate",
           "Overall"
          ],
          [
           "Endometrin",
           "Progesterone, Micronized",
           "Overall"
          ],
          [
           "Engerix-B Pediatric-Adolescent",
           "Hepatitis B Virus Vaccine/PF",
           "Overall"
          ],
          [
           "Entecavir",
           "Entecavir",
           "Overall"
          ],
          [
           "Epinephrine",
           "Epinephrine HCl/PF",
           "Overall"
          ],
          [
           "Epipen Jr 2-Pak",
           "Epinephrine",
           "Overall"
          ],
          [
           "Eraxis",
           "Anidulafungin",
           "Overall"
          ],
          [
           "Ergoloid Mesylates",
           "Ergoloid Mesylates",
           "Overall"
          ],
          [
           "Ertapenem",
           "Ertapenem Sodium",
           "Overall"
          ],
          [
           "Ery-Tab",
           "Erythromycin Base",
           "Overall"
          ],
          [
           "Erythrocin Lactobionate",
           "Erythromycin Lactobionate",
           "Overall"
          ],
          [
           "Erythrocin Stearate",
           "Erythromycin Stearate",
           "Overall"
          ],
          [
           "Esomeprazole Sodium",
           "Esomeprazole Sodium",
           "Overall"
          ],
          [
           "Ethacrynic Acid",
           "Ethacrynic Acid",
           "Overall"
          ],
          [
           "Etopophos",
           "Etoposide Phosphate",
           "Overall"
          ],
          [
           "Exjade",
           "Deferasirox",
           "Overall"
          ],
          [
           "Faslodex",
           "Fulvestrant",
           "Overall"
          ],
          [
           "Feldene",
           "Piroxicam",
           "Overall"
          ],
          [
           "Fentanyl Citrate",
           "Fentanyl Citrate",
           "Overall"
          ],
          [
           "Fentora",
           "Fentanyl Citrate",
           "Overall"
          ],
          [
           "Fiasp Pumpcart",
           "Insulin Aspart/B3/Pump Cart",
           "Overall"
          ],
          [
           "Flac Otic Oil",
           "Fluocinolone Acetonide Oil",
           "Overall"
          ],
          [
           "Flexbumin",
           "Albumin Human",
           "Overall"
          ],
          [
           "Flolipid",
           "Simvastatin",
           "Overall"
          ],
          [
           "Flurazepam HCl",
           "Flurazepam HCl",
           "Overall"
          ],
          [
           "Fosphenytoin Sodium",
           "Fosphenytoin Sodium",
           "Overall"
          ],
          [
           "Fylnetra",
           "PEGfilgrastim-Pbbk",
           "Overall"
          ],
          [
           "Gablofen",
           "Baclofen",
           "Overall"
          ],
          [
           "Gamifant",
           "Emapalumab-Lzsg",
           "Overall"
          ],
          [
           "Ganciclovir Sodium",
           "Ganciclovir Sodium",
           "Overall"
          ],
          [
           "Glucagen",
           "Glucagon",
           "Overall"
          ],
          [
           "Glycate",
           "Glycopyrrolate",
           "Overall"
          ],
          [
           "Glynase",
           "Glyburide,Micronized",
           "Overall"
          ],
          [
           "Granisetron HCl*",
           "Granisetron HCl",
           "Overall"
          ],
          [
           "Hadlima",
           "Adalimumab-Bwwd",
           "Overall"
          ],
          [
           "Hadlima(Cf)",
           "Adalimumab-Bwwd",
           "Overall"
          ],
          [
           "Haldol Decanoate 100",
           "Haloperidol Decanoate",
           "Overall"
          ],
          [
           "Haldol Decanoate 50",
           "Haloperidol Decanoate",
           "Overall"
          ],
          [
           "Healthy Accents Unifine Pentip",
           "Pen Needle, Diabetic",
           "Overall"
          ],
          [
           "Heparin Sodium In 0.45% NaCl",
           "Heparin Sod,Pork In 0.45% NaCl",
           "Overall"
          ],
          [
           "Herzuma",
           "Trastuzumab-Pkrb",
           "Overall"
          ],
          [
           "Hetlioz Lq",
           "Tasimelteon",
           "Overall"
          ],
          [
           "Humatin",
           "Paromomycin Sulfate",
           "Overall"
          ],
          [
           "Humulin 70-30",
           "Insulin NPh Hum/Reg Insulin Hm",
           "Overall"
          ],
          [
           "Humulin 70/30 Kwikpen",
           "Insulin NPh Hum/Reg Insulin Hm",
           "Overall"
          ],
          [
           "Hycodan",
           "Hydrocodone Bit/Homatrop Me-Br",
           "Overall"
          ],
          [
           "Hydrocortisone Acetate",
           "Hydrocortisone Acetate",
           "Overall"
          ],
          [
           "Hydroxyprogesterone Caproate",
           "Hydroxyprogesterone Caproat/PF",
           "Overall"
          ],
          [
           "IV Prep Wipes",
           "Alcohol Antiseptic Pads",
           "Overall"
          ],
          [
           "Ibandronate Sodium*",
           "Ibandronate Sodium",
           "Overall"
          ],
          [
           "Igalmi",
           "Dexmedetomidine HCl",
           "Overall"
          ],
          [
           "Imipenem-Cilastatin Sodium",
           "Imipenem/Cilastatin Sodium",
           "Overall"
          ],
          [
           "Inflectra",
           "Infliximab-Dyyb",
           "Overall"
          ],
          [
           "Infliximab",
           "Infliximab",
           "Overall"
          ],
          [
           "Invanz",
           "Ertapenem Sodium",
           "Overall"
          ],
          [
           "Irinotecan HCl",
           "Irinotecan HCl",
           "Overall"
          ],
          [
           "Isotretinoin",
           "Isotretinoin",
           "Overall"
          ],
          [
           "Istodax",
           "Romidepsin",
           "Overall"
          ],
          [
           "Ixempra",
           "Ixabepilone",
           "Overall"
          ],
          [
           "Jadenu Sprinkle",
           "Deferasirox",
           "Overall"
          ],
          [
           "Javygtor",
           "Sapropterin Dihydrochloride",
           "Overall"
          ],
          [
           "Jynneos",
           "Smallpox And Mpox Live Vacc/PF",
           "Overall"
          ],
          [
           "Jynneos (National Stockpile)",
           "Smallpox And Mpox Live Vacc/PF",
           "Overall"
          ],
          [
           "Kapvay",
           "Clonidine HCl",
           "Overall"
          ],
          [
           "Kenalog-10",
           "Triamcinolone Acetonide",
           "Overall"
          ],
          [
           "Kerydin",
           "Tavaborole",
           "Overall"
          ],
          [
           "Krintafel",
           "Tafenoquine Succinate",
           "Overall"
          ],
          [
           "Kyprolis",
           "Carfilzomib",
           "Overall"
          ],
          [
           "Lacrisert",
           "Hydroxypropyl Cellulose",
           "Overall"
          ],
          [
           "Lamictal (Orange)",
           "Lamotrigine",
           "Overall"
          ],
          [
           "Lamictal XR (Orange)",
           "Lamotrigine",
           "Overall"
          ],
          [
           "Lamotrigine (Green)",
           "Lamotrigine",
           "Overall"
          ],
          [
           "Leena",
           "Norethindrone-Ethin. Estradiol",
           "Overall"
          ],
          [
           "Lemtrada",
           "Alemtuzumab",
           "Overall"
          ],
          [
           "Leqembi",
           "Lecanemab-Irmb",
           "Overall"
          ],
          [
           "Leuprolide Acetate",
           "Leuprolide Acetate",
           "Overall"
          ],
          [
           "Levamlodipine Maleate",
           "Levamlodipine Maleate",
           "Overall"
          ],
          [
           "Lidocaine-Hydrocortisone*",
           "Lidocaine/Hydrocortisone Ac",
           "Overall"
          ],
          [
           "Lidoderm",
           "Lidocaine",
           "Overall"
          ],
          [
           "Lincocin",
           "Lincomycin HCl",
           "Overall"
          ],
          [
           "Lincomycin HCl",
           "Lincomycin HCl",
           "Overall"
          ],
          [
           "Lindane",
           "Lindane",
           "Overall"
          ],
          [
           "Linezolid",
           "Linezolid",
           "Overall"
          ],
          [
           "Lioresal Intrathecal",
           "Baclofen",
           "Overall"
          ],
          [
           "Litetouch Insulin Syringe",
           "Syringe-Needle,Insulin,0.5 Ml",
           "Overall"
          ],
          [
           "Lithium Citrate",
           "Lithium Citrate",
           "Overall"
          ],
          [
           "Lotensin HCT",
           "Benazepril/Hydrochlorothiazide",
           "Overall"
          ],
          [
           "Lurasidone HCl",
           "Lurasidone HCl",
           "Overall"
          ],
          [
           "Magnesium Chloride",
           "Magnesium Chloride",
           "Overall"
          ],
          [
           "Malarone",
           "Atovaquone/Proguanil HCl",
           "Overall"
          ],
          [
           "Marcaine",
           "Bupivacaine HCl",
           "Overall"
          ],
          [
           "Marinol",
           "Dronabinol",
           "Overall"
          ],
          [
           "Maxi-Comfort",
           "Syringe And Needle,Insulin,1ml",
           "Overall"
          ],
          [
           "Maxitrol",
           "Neomycin/Polymyxin B/Dexametha",
           "Overall"
          ],
          [
           "Maxzide-25 Mg",
           "Triamterene/Hydrochlorothiazid",
           "Overall"
          ],
          [
           "Melphalan",
           "Melphalan",
           "Overall"
          ],
          [
           "Merzee",
           "Norethindrone-E.Estradiol-Iron",
           "Overall"
          ],
          [
           "Mesalamine",
           "Mesalamine W/Cleansing Wipes",
           "Overall"
          ],
          [
           "Methylergonovine Maleate*",
           "Methylergonovine Maleate",
           "Overall"
          ],
          [
           "Methylin",
           "Methylphenidate HCl",
           "Overall"
          ],
          [
           "Methylprednisolone Sodium Succ*",
           "Methylprednisolone Sod Succ",
           "Overall"
          ],
          [
           "Micafungin",
           "Micafungin Sodium",
           "Overall"
          ],
          [
           "Microdot Insulin Pen Needle",
           "Pen Needle, Diabetic",
           "Overall"
          ],
          [
           "Microgestin 24 Fe",
           "Norethindrone-E.Estradiol-Iron",
           "Overall"
          ],
          [
           "Minipress",
           "Prazosin HCl",
           "Overall"
          ],
          [
           "Minocin*",
           "Minocycline HCl",
           "Overall"
          ],
          [
           "Minolira ER",
           "Minocycline HCl",
           "Overall"
          ],
          [
           "Mitigo",
           "Morphine Sulfate/PF",
           "Overall"
          ],
          [
           "Modafinil",
           "Modafinil",
           "Overall"
          ],
          [
           "Moxifloxacin",
           "Moxifloxacin/Sod.Ace,Sul/Water",
           "Overall"
          ],
          [
           "Moxifloxacin HCl",
           "Moxifloxacin HCl",
           "Overall"
          ],
          [
           "Multi-Vitamin W-Fluoride-Iron",
           "Pedi Multivit 45/Fluoride/Iron",
           "Overall"
          ],
          [
           "Multivitamin With Fluoride",
           "Pedi Multivit No.2 W-Fluoride",
           "Overall"
          ],
          [
           "Mycobutin",
           "Rifabutin",
           "Overall"
          ],
          [
           "Myleran",
           "Busulfan",
           "Overall"
          ],
          [
           "Myorisan",
           "Isotretinoin",
           "Overall"
          ],
          [
           "Nafcillin Sodium*",
           "Nafcillin Sodium",
           "Overall"
          ],
          [
           "Nascobal",
           "Cyanocobalamin (Vitamin B-12)",
           "Overall"
          ],
          [
           "Neo-Polycin",
           "Neomycin/Bacitracin/Polymyxinb",
           "Overall"
          ],
          [
           "Neo-Polycin HC",
           "Neomycin/Bacit/P-Myx/Hydrocort",
           "Overall"
          ],
          [
           "Nesina",
           "Alogliptin Benzoate",
           "Overall"
          ],
          [
           "Nilandron",
           "Nilutamide",
           "Overall"
          ],
          [
           "Nipent",
           "Pentostatin",
           "Overall"
          ],
          [
           "Nitisinone",
           "Nitisinone",
           "Overall"
          ],
          [
           "Noxafil*",
           "Posaconazole",
           "Overall"
          ],
          [
           "Nymalize",
           "Nimodipine",
           "Overall"
          ],
          [
           "Nymyo",
           "Norgestimate-Ethinyl Estradiol",
           "Overall"
          ],
          [
           "Ocuflox",
           "Ofloxacin",
           "Overall"
          ],
          [
           "Ogsiveo",
           "Nirogacestat Hydrobromide",
           "Overall"
          ],
          [
           "Omnitrope",
           "Somatropin",
           "Overall"
          ],
          [
           "Orbactiv",
           "Oritavancin Diphosphate",
           "Overall"
          ],
          [
           "Orenitram Month 3 Titration Kt",
           "Treprostinil Diolamine",
           "Overall"
          ],
          [
           "Orfadin",
           "Nitisinone",
           "Overall"
          ],
          [
           "Oscimin",
           "Hyoscyamine Sulfate",
           "Overall"
          ],
          [
           "Otovel",
           "Ciprofloxacin HCl/Fluocinolone",
           "Overall"
          ],
          [
           "Oxacillin Sodium",
           "Oxacillin Sodium",
           "Overall"
          ],
          [
           "PEG3350-Sod Sul-NaCl-KCl-Asb-C",
           "PEG3350/Sod Sul/NaCl/KCl/Asb/C",
           "Overall"
          ],
          [
           "Paxlovid",
           "Nirmatrelvir/Ritonavir",
           "Overall"
          ],
          [
           "Pediarix",
           "Hep B Vaccine/Dp(A)t-Polio/PF",
           "Overall"
          ],
          [
           "Penicillin G Potassium",
           "Penicillin G Potassium",
           "Overall"
          ],
          [
           "Penicillin G Procaine",
           "Penicillin G Procaine",
           "Overall"
          ],
          [
           "Penicillin G Sodium",
           "Penicillin G Sodium",
           "Overall"
          ],
          [
           "Pfizerpen",
           "Penicillin G Potassium",
           "Overall"
          ],
          [
           "Phenergan*",
           "Promethazine HCl",
           "Overall"
          ],
          [
           "Phenobarbital Sodium",
           "Phenobarbital Sodium",
           "Overall"
          ],
          [
           "Phentolamine Mesylate",
           "Phentolamine Mesylate",
           "Overall"
          ],
          [
           "Piperacillin-Tazobactam",
           "Piperacillin Sodium/Tazobactam",
           "Overall"
          ],
          [
           "Polytrim",
           "Polymyxin B Sulf/Trimethoprim",
           "Overall"
          ],
          [
           "Potassium Chloride-Dextrose 5%",
           "Potassium Chloride In D5W",
           "Overall"
          ],
          [
           "Pregnyl",
           "Chorionic Gonadotropin, Human",
           "Overall"
          ],
          [
           "Prehevbrio",
           "Hepatitis B Virus Vac S,M,L/PF",
           "Overall"
          ],
          [
           "Prenatal Plus Vitamin-Mineral",
           "Prenatal Vit No.180/Iron/Folic",
           "Overall"
          ],
          [
           "Prialt",
           "Ziconotide Acetate",
           "Overall"
          ],
          [
           "Procto-Pak",
           "Hydrocortisone",
           "Overall"
          ],
          [
           "Proctocort",
           "Hydrocortisone",
           "Overall"
          ],
          [
           "Prodigy Insulin Syringe",
           "Syringe And Needle,Insulin,1ml",
           "Overall"
          ],
          [
           "Promethazine Vc-Codeine",
           "Promethazine/Phenyleph/Codeine",
           "Overall"
          ],
          [
           "Proquad",
           "Measles,Mumps,Rub,Varicella/PF",
           "Overall"
          ],
          [
           "Protopic",
           "Tacrolimus",
           "Overall"
          ],
          [
           "Proventil HFA",
           "Albuterol Sulfate",
           "Overall"
          ],
          [
           "Purixan",
           "Mercaptopurine",
           "Overall"
          ],
          [
           "Qalsody",
           "Tofersen",
           "Overall"
          ],
          [
           "Quadracel DTaP-Ipv",
           "Diph,Pertus(Acel),Tet,Polio/PF",
           "Overall"
          ],
          [
           "Questran Light",
           "Cholestyramine/Aspartame",
           "Overall"
          ],
          [
           "Recarbrio",
           "Imipenem/Cilastatin/Relebactam",
           "Overall"
          ],
          [
           "Reclast",
           "Zoledronic Acid/Mannitol-Water",
           "Overall"
          ],
          [
           "Reditrex",
           "Methotrexate/PF",
           "Overall"
          ],
          [
           "Regonol",
           "Pyridostigmine Bromide",
           "Overall"
          ],
          [
           "Releuko*",
           "Filgrastim-Ayow",
           "Overall"
          ],
          [
           "Rezzayo",
           "Rezafungin Acetate",
           "Overall"
          ],
          [
           "Rivelsa",
           "L-Norgest/E.Estradiol-E.Estrad",
           "Overall"
          ],
          [
           "Ropivacaine HCl",
           "Ropivacaine HCl/PF",
           "Overall"
          ],
          [
           "Rosuvastatin-Ezetimibe",
           "Ezetimibe/Rosuvastatin Calcium",
           "Overall"
          ],
          [
           "Rowasa",
           "Mesalamine W/Cleansing Wipes",
           "Overall"
          ],
          [
           "Safyral",
           "Drospir/Eth Estra/Levomefol Ca",
           "Overall"
          ],
          [
           "Saizen",
           "Somatropin",
           "Overall"
          ],
          [
           "Saizen-Saizenprep",
           "Somatropin",
           "Overall"
          ],
          [
           "Saxenda",
           "Liraglutide",
           "Overall"
          ],
          [
           "Sensorcaine",
           "Bupivacaine HCl",
           "Overall"
          ],
          [
           "Sensorcaine-MPF",
           "Bupivacaine HCl/PF",
           "Overall"
          ],
          [
           "Sfrowasa",
           "Mesalamine",
           "Overall"
          ],
          [
           "Siklos",
           "Hydroxyurea",
           "Overall"
          ],
          [
           "Sitavig",
           "Acyclovir",
           "Overall"
          ],
          [
           "Sky Safety Pen Needle",
           "Pen Needle, Diabetic, Safety",
           "Overall"
          ],
          [
           "Skyla",
           "Levonorgestrel",
           "Overall"
          ],
          [
           "Sodium Chloride",
           "Sodium Chloride For Inhalation",
           "Overall"
          ],
          [
           "Sogroya",
           "Somapacitan-Beco",
           "Overall"
          ],
          [
           "Solodyn",
           "Minocycline HCl",
           "Overall"
          ],
          [
           "Solu-Cortef",
           "Hydrocortisone Sod Succinate",
           "Overall"
          ],
          [
           "Solu-Cortef",
           "Hydrocortisone Sodium Succ/PF",
           "Overall"
          ],
          [
           "Solu-Medrol",
           "Methylprednisolone Sod Succ",
           "Overall"
          ],
          [
           "Solu-Medrol*",
           "Methylprednisolone Sod Succ/PF",
           "Overall"
          ],
          [
           "Sotylize",
           "Sotalol HCl",
           "Overall"
          ],
          [
           "Spinraza",
           "Nusinersen Sodium/PF",
           "Overall"
          ],
          [
           "Stalevo 125",
           "Carbidopa/Levodopa/Entacapone",
           "Overall"
          ],
          [
           "Stalevo 75",
           "Carbidopa/Levodopa/Entacapone",
           "Overall"
          ],
          [
           "Subsys",
           "Fentanyl",
           "Overall"
          ],
          [
           "Sure Comfort Safety Pen Needle",
           "Pen Needle, Diabetic, Safety",
           "Overall"
          ],
          [
           "Sure-Fine Pen Needles",
           "Pen Needle, Diabetic",
           "Overall"
          ],
          [
           "Sure-Ject Insulin Syringe",
           "Syringe And Needle,Insulin,1ml",
           "Overall"
          ],
          [
           "Sustiva",
           "Efavirenz",
           "Overall"
          ],
          [
           "Synagis",
           "Palivizumab",
           "Overall"
          ],
          [
           "Tabloid",
           "Thioguanine",
           "Overall"
          ],
          [
           "Targadox",
           "Doxycycline Hyclate",
           "Overall"
          ],
          [
           "Tasmar",
           "Tolcapone",
           "Overall"
          ],
          [
           "Tecvayli",
           "Teclistamab-Cqyv",
           "Overall"
          ],
          [
           "Teflaro",
           "Ceftaroline Fosamil Acetate",
           "Overall"
          ],
          [
           "Temozolomide",
           "Temozolomide",
           "Overall"
          ],
          [
           "Temsirolimus",
           "Temsirolimus",
           "Overall"
          ],
          [
           "Tenivac",
           "Tetanus-Diphtheria Toxoids/PF",
           "Overall"
          ],
          [
           "Terumo Insulin Syringe",
           "Syringe-Needle,Insulin,0.5 Ml",
           "Overall"
          ],
          [
           "Tetracaine HCl",
           "Tetracaine HCl",
           "Overall"
          ],
          [
           "Tetracaine HCl*",
           "Tetracaine HCl/PF",
           "Overall"
          ],
          [
           "Tigecycline",
           "Tigecycline",
           "Overall"
          ],
          [
           "Tivdak",
           "Tisotumab Vedotin-Tftv",
           "Overall"
          ],
          [
           "Tobi",
           "Tobramycin In 0.225% Sod Chlor",
           "Overall"
          ],
          [
           "Topotecan HCl",
           "Topotecan HCl",
           "Overall"
          ],
          [
           "Tpn Electrolytes",
           "Sodium/Pot/Mag/Calc/Chlor/Acet",
           "Overall"
          ],
          [
           "Trientine HCl",
           "Trientine HCl",
           "Overall"
          ],
          [
           "Truseltiq",
           "Infigratinib Phosphate",
           "Overall"
          ],
          [
           "Tygacil",
           "Tigecycline",
           "Overall"
          ],
          [
           "Tyvaso Starter Kit",
           "Treprostinil/Nebulizer/Accesor",
           "Overall"
          ],
          [
           "Ultiguard Safepack-Insulin Syr",
           "Syr,Ndl,Insulin,1ml-Sharps Bin",
           "Overall"
          ],
          [
           "Ultiguard Safepack-Insulin Syr",
           "Syr-Nd,Ins,0.5/Container,Empty",
           "Overall"
          ],
          [
           "Ultilet Insulin Syringe",
           "Syring-Needl,Disp,Insul,0.3 Ml",
           "Overall"
          ],
          [
           "Ultilet Pen Needle",
           "Pen Needle, Diabetic",
           "Overall"
          ],
          [
           "Ultra Comfort",
           "Syring-Needl,Disp,Insul,0.3 Ml",
           "Overall"
          ],
          [
           "Ultra Flo Insulin Syringe",
           "Syring-Needl,Disp,Insul,0.3 Ml",
           "Overall"
          ],
          [
           "Unasyn",
           "Ampicillin Sod/Sulbactam Sod",
           "Overall"
          ],
          [
           "Vabomere",
           "Meropenem/Vaborbactam",
           "Overall"
          ],
          [
           "Valcyte",
           "Valganciclovir HCl",
           "Overall"
          ],
          [
           "Valganciclovir HCl",
           "Valganciclovir HCl",
           "Overall"
          ],
          [
           "Vancocin HCl",
           "Vancomycin HCl",
           "Overall"
          ],
          [
           "Vanflyta",
           "Quizartinib Dihydrochloride",
           "Overall"
          ],
          [
           "Vanos",
           "Fluocinonide",
           "Overall"
          ],
          [
           "Veklury",
           "Remdesivir",
           "Overall"
          ],
          [
           "Verdeso",
           "Desonide",
           "Overall"
          ],
          [
           "Vibativ",
           "Telavancin HCl",
           "Overall"
          ],
          [
           "Vibramycin",
           "Doxycycline Calcium",
           "Overall"
          ],
          [
           "Vinblastine Sulfate",
           "Vinblastine Sulfate",
           "Overall"
          ],
          [
           "Virt-Nate DHA",
           "PNV 11/Iron Fum/Folic Acid/Om3",
           "Overall"
          ],
          [
           "Vitafol Fe Plus",
           "PNV 102/Iron/Folate/DHA",
           "Overall"
          ],
          [
           "Vitafol-Ob",
           "Prenatal Vit 10/Iron Fum/Folic",
           "Overall"
          ],
          [
           "Vitafol-Ob+DHA",
           "Prenatal Vit 10/Iron/Folic/DHA",
           "Overall"
          ],
          [
           "Voriconazole*",
           "Voriconazole",
           "Overall"
          ],
          [
           "Vyondys-53",
           "Golodirsen",
           "Overall"
          ],
          [
           "Wegovy",
           "Semaglutide",
           "Overall"
          ],
          [
           "Xeloda",
           "Capecitabine",
           "Overall"
          ],
          [
           "Xenleta*",
           "Lefamulin Acetate",
           "Overall"
          ],
          [
           "Xerava",
           "Eravacycline Di-Hydrochloride",
           "Overall"
          ],
          [
           "Ximino",
           "Minocycline HCl",
           "Overall"
          ],
          [
           "Xopenex",
           "Levalbuterol HCl",
           "Overall"
          ],
          [
           "Xylocaine With Epinephrine",
           "Lidocaine HCl/Epinephrine",
           "Overall"
          ],
          [
           "Yuflyma(Cf) Autoinjector",
           "Adalimumab-Aaty",
           "Overall"
          ],
          [
           "Yutiq",
           "Fluocinolone Acetonide",
           "Overall"
          ],
          [
           "Zegalogue Syringe",
           "Dasiglucagon HCl",
           "Overall"
          ],
          [
           "Zemplar*",
           "Paricalcitol",
           "Overall"
          ],
          [
           "Zerbaxa",
           "Ceftolozane/Tazobactam",
           "Overall"
          ],
          [
           "Ziagen",
           "Abacavir Sulfate",
           "Overall"
          ],
          [
           "Ziana",
           "Clindamycin/Tretinoin",
           "Overall"
          ],
          [
           "Zolmitriptan ODT",
           "Zolmitriptan",
           "Overall"
          ],
          [
           "Zomacton",
           "Somatropin",
           "Overall"
          ],
          [
           "Zonalon",
           "Doxepin HCl",
           "Overall"
          ],
          [
           "Zorvolex",
           "Diclofenac Submicronized",
           "Overall"
          ],
          [
           "Zyclara",
           "Imiquimod",
           "Overall"
          ],
          [
           "Zynlonta",
           "Loncastuximab Tesirine-Lpyl",
           "Overall"
          ],
          [
           "Zyvox",
           "Linezolid",
           "Overall"
          ]
         ],
         "hovertemplate": "Avg_Spnd_Per_Clm_2023=%{x}<br>Tot_Spndng_2023=%{y}<br>Brnd_Name=%{customdata[0]}<br>Gnrc_Name=%{customdata[1]}<br>Mftr_Name=%{customdata[2]}<extra></extra>",
         "legendgroup": "",
         "marker": {
          "color": "#636efa",
          "symbol": "circle"
         },
         "mode": "markers",
         "name": "",
         "orientation": "v",
         "showlegend": false,
         "type": "scatter",
         "x": {
          "bdata": "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",
          "dtype": "f8"
         },
         "xaxis": "x",
         "y": {
          "bdata": "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",
          "dtype": "f8"
         },
         "yaxis": "y"
        }
       ],
       "layout": {
        "legend": {
         "tracegroupgap": 0
        },
        "margin": {
         "t": 60
        },
        "template": {
         "data": {
          "bar": [
           {
            "error_x": {
             "color": "#2a3f5f"
            },
            "error_y": {
             "color": "#2a3f5f"
            },
            "marker": {
             "line": {
              "color": "#E5ECF6",
              "width": 0.5
             },
             "pattern": {
              "fillmode": "overlay",
              "size": 10,
              "solidity": 0.2
             }
            },
            "type": "bar"
           }
          ],
          "barpolar": [
           {
            "marker": {
             "line": {
              "color": "#E5ECF6",
              "width": 0.5
             },
             "pattern": {
              "fillmode": "overlay",
              "size": 10,
              "solidity": 0.2
             }
            },
            "type": "barpolar"
           }
          ],
          "carpet": [
           {
            "aaxis": {
             "endlinecolor": "#2a3f5f",
             "gridcolor": "white",
             "linecolor": "white",
             "minorgridcolor": "white",
             "startlinecolor": "#2a3f5f"
            },
            "baxis": {
             "endlinecolor": "#2a3f5f",
             "gridcolor": "white",
             "linecolor": "white",
             "minorgridcolor": "white",
             "startlinecolor": "#2a3f5f"
            },
            "type": "carpet"
           }
          ],
          "choropleth": [
           {
            "colorbar": {
             "outlinewidth": 0,
             "ticks": ""
            },
            "type": "choropleth"
           }
          ],
          "contour": [
           {
            "colorbar": {
             "outlinewidth": 0,
             "ticks": ""
            },
            "colorscale": [
             [
              0,
              "#0d0887"
             ],
             [
              0.1111111111111111,
              "#46039f"
             ],
             [
              0.2222222222222222,
              "#7201a8"
             ],
             [
              0.3333333333333333,
              "#9c179e"
             ],
             [
              0.4444444444444444,
              "#bd3786"
             ],
             [
              0.5555555555555556,
              "#d8576b"
             ],
             [
              0.6666666666666666,
              "#ed7953"
             ],
             [
              0.7777777777777778,
              "#fb9f3a"
             ],
             [
              0.8888888888888888,
              "#fdca26"
             ],
             [
              1,
              "#f0f921"
             ]
            ],
            "type": "contour"
           }
          ],
          "contourcarpet": [
           {
            "colorbar": {
             "outlinewidth": 0,
             "ticks": ""
            },
            "type": "contourcarpet"
           }
          ],
          "heatmap": [
           {
            "colorbar": {
             "outlinewidth": 0,
             "ticks": ""
            },
            "colorscale": [
             [
              0,
              "#0d0887"
             ],
             [
              0.1111111111111111,
              "#46039f"
             ],
             [
              0.2222222222222222,
              "#7201a8"
             ],
             [
              0.3333333333333333,
              "#9c179e"
             ],
             [
              0.4444444444444444,
              "#bd3786"
             ],
             [
              0.5555555555555556,
              "#d8576b"
             ],
             [
              0.6666666666666666,
              "#ed7953"
             ],
             [
              0.7777777777777778,
              "#fb9f3a"
             ],
             [
              0.8888888888888888,
              "#fdca26"
             ],
             [
              1,
              "#f0f921"
             ]
            ],
            "type": "heatmap"
           }
          ],
          "histogram": [
           {
            "marker": {
             "pattern": {
              "fillmode": "overlay",
              "size": 10,
              "solidity": 0.2
             }
            },
            "type": "histogram"
           }
          ],
          "histogram2d": [
           {
            "colorbar": {
             "outlinewidth": 0,
             "ticks": ""
            },
            "colorscale": [
             [
              0,
              "#0d0887"
             ],
             [
              0.1111111111111111,
              "#46039f"
             ],
             [
              0.2222222222222222,
              "#7201a8"
             ],
             [
              0.3333333333333333,
              "#9c179e"
             ],
             [
              0.4444444444444444,
              "#bd3786"
             ],
             [
              0.5555555555555556,
              "#d8576b"
             ],
             [
              0.6666666666666666,
              "#ed7953"
             ],
             [
              0.7777777777777778,
              "#fb9f3a"
             ],
             [
              0.8888888888888888,
              "#fdca26"
             ],
             [
              1,
              "#f0f921"
             ]
            ],
            "type": "histogram2d"
           }
          ],
          "histogram2dcontour": [
           {
            "colorbar": {
             "outlinewidth": 0,
             "ticks": ""
            },
            "colorscale": [
             [
              0,
              "#0d0887"
             ],
             [
              0.1111111111111111,
              "#46039f"
             ],
             [
              0.2222222222222222,
              "#7201a8"
             ],
             [
              0.3333333333333333,
              "#9c179e"
             ],
             [
              0.4444444444444444,
              "#bd3786"
             ],
             [
              0.5555555555555556,
              "#d8576b"
             ],
             [
              0.6666666666666666,
              "#ed7953"
             ],
             [
              0.7777777777777778,
              "#fb9f3a"
             ],
             [
              0.8888888888888888,
              "#fdca26"
             ],
             [
              1,
              "#f0f921"
             ]
            ],
            "type": "histogram2dcontour"
           }
          ],
          "mesh3d": [
           {
            "colorbar": {
             "outlinewidth": 0,
             "ticks": ""
            },
            "type": "mesh3d"
           }
          ],
          "parcoords": [
           {
            "line": {
             "colorbar": {
              "outlinewidth": 0,
              "ticks": ""
             }
            },
            "type": "parcoords"
           }
          ],
          "pie": [
           {
            "automargin": true,
            "type": "pie"
           }
          ],
          "scatter": [
           {
            "fillpattern": {
             "fillmode": "overlay",
             "size": 10,
             "solidity": 0.2
            },
            "type": "scatter"
           }
          ],
          "scatter3d": [
           {
            "line": {
             "colorbar": {
              "outlinewidth": 0,
              "ticks": ""
             }
            },
            "marker": {
             "colorbar": {
              "outlinewidth": 0,
              "ticks": ""
             }
            },
            "type": "scatter3d"
           }
          ],
          "scattercarpet": [
           {
            "marker": {
             "colorbar": {
              "outlinewidth": 0,
              "ticks": ""
             }
            },
            "type": "scattercarpet"
           }
          ],
          "scattergeo": [
           {
            "marker": {
             "colorbar": {
              "outlinewidth": 0,
              "ticks": ""
             }
            },
            "type": "scattergeo"
           }
          ],
          "scattergl": [
           {
            "marker": {
             "colorbar": {
              "outlinewidth": 0,
              "ticks": ""
             }
            },
            "type": "scattergl"
           }
          ],
          "scattermap": [
           {
            "marker": {
             "colorbar": {
              "outlinewidth": 0,
              "ticks": ""
             }
            },
            "type": "scattermap"
           }
          ],
          "scattermapbox": [
           {
            "marker": {
             "colorbar": {
              "outlinewidth": 0,
              "ticks": ""
             }
            },
            "type": "scattermapbox"
           }
          ],
          "scatterpolar": [
           {
            "marker": {
             "colorbar": {
              "outlinewidth": 0,
              "ticks": ""
             }
            },
            "type": "scatterpolar"
           }
          ],
          "scatterpolargl": [
           {
            "marker": {
             "colorbar": {
              "outlinewidth": 0,
              "ticks": ""
             }
            },
            "type": "scatterpolargl"
           }
          ],
          "scatterternary": [
           {
            "marker": {
             "colorbar": {
              "outlinewidth": 0,
              "ticks": ""
             }
            },
            "type": "scatterternary"
           }
          ],
          "surface": [
           {
            "colorbar": {
             "outlinewidth": 0,
             "ticks": ""
            },
            "colorscale": [
             [
              0,
              "#0d0887"
             ],
             [
              0.1111111111111111,
              "#46039f"
             ],
             [
              0.2222222222222222,
              "#7201a8"
             ],
             [
              0.3333333333333333,
              "#9c179e"
             ],
             [
              0.4444444444444444,
              "#bd3786"
             ],
             [
              0.5555555555555556,
              "#d8576b"
             ],
             [
              0.6666666666666666,
              "#ed7953"
             ],
             [
              0.7777777777777778,
              "#fb9f3a"
             ],
             [
              0.8888888888888888,
              "#fdca26"
             ],
             [
              1,
              "#f0f921"
             ]
            ],
            "type": "surface"
           }
          ],
          "table": [
           {
            "cells": {
             "fill": {
              "color": "#EBF0F8"
             },
             "line": {
              "color": "white"
             }
            },
            "header": {
             "fill": {
              "color": "#C8D4E3"
             },
             "line": {
              "color": "white"
             }
            },
            "type": "table"
           }
          ]
         },
         "layout": {
          "annotationdefaults": {
           "arrowcolor": "#2a3f5f",
           "arrowhead": 0,
           "arrowwidth": 1
          },
          "autotypenumbers": "strict",
          "coloraxis": {
           "colorbar": {
            "outlinewidth": 0,
            "ticks": ""
           }
          },
          "colorscale": {
           "diverging": [
            [
             0,
             "#8e0152"
            ],
            [
             0.1,
             "#c51b7d"
            ],
            [
             0.2,
             "#de77ae"
            ],
            [
             0.3,
             "#f1b6da"
            ],
            [
             0.4,
             "#fde0ef"
            ],
            [
             0.5,
             "#f7f7f7"
            ],
            [
             0.6,
             "#e6f5d0"
            ],
            [
             0.7,
             "#b8e186"
            ],
            [
             0.8,
             "#7fbc41"
            ],
            [
             0.9,
             "#4d9221"
            ],
            [
             1,
             "#276419"
            ]
           ],
           "sequential": [
            [
             0,
             "#0d0887"
            ],
            [
             0.1111111111111111,
             "#46039f"
            ],
            [
             0.2222222222222222,
             "#7201a8"
            ],
            [
             0.3333333333333333,
             "#9c179e"
            ],
            [
             0.4444444444444444,
             "#bd3786"
            ],
            [
             0.5555555555555556,
             "#d8576b"
            ],
            [
             0.6666666666666666,
             "#ed7953"
            ],
            [
             0.7777777777777778,
             "#fb9f3a"
            ],
            [
             0.8888888888888888,
             "#fdca26"
            ],
            [
             1,
             "#f0f921"
            ]
           ],
           "sequentialminus": [
            [
             0,
             "#0d0887"
            ],
            [
             0.1111111111111111,
             "#46039f"
            ],
            [
             0.2222222222222222,
             "#7201a8"
            ],
            [
             0.3333333333333333,
             "#9c179e"
            ],
            [
             0.4444444444444444,
             "#bd3786"
            ],
            [
             0.5555555555555556,
             "#d8576b"
            ],
            [
             0.6666666666666666,
             "#ed7953"
            ],
            [
             0.7777777777777778,
             "#fb9f3a"
            ],
            [
             0.8888888888888888,
             "#fdca26"
            ],
            [
             1,
             "#f0f921"
            ]
           ]
          },
          "colorway": [
           "#636efa",
           "#EF553B",
           "#00cc96",
           "#ab63fa",
           "#FFA15A",
           "#19d3f3",
           "#FF6692",
           "#B6E880",
           "#FF97FF",
           "#FECB52"
          ],
          "font": {
           "color": "#2a3f5f"
          },
          "geo": {
           "bgcolor": "white",
           "lakecolor": "white",
           "landcolor": "#E5ECF6",
           "showlakes": true,
           "showland": true,
           "subunitcolor": "white"
          },
          "hoverlabel": {
           "align": "left"
          },
          "hovermode": "closest",
          "mapbox": {
           "style": "light"
          },
          "paper_bgcolor": "white",
          "plot_bgcolor": "#E5ECF6",
          "polar": {
           "angularaxis": {
            "gridcolor": "white",
            "linecolor": "white",
            "ticks": ""
           },
           "bgcolor": "#E5ECF6",
           "radialaxis": {
            "gridcolor": "white",
            "linecolor": "white",
            "ticks": ""
           }
          },
          "scene": {
           "xaxis": {
            "backgroundcolor": "#E5ECF6",
            "gridcolor": "white",
            "gridwidth": 2,
            "linecolor": "white",
            "showbackground": true,
            "ticks": "",
            "zerolinecolor": "white"
           },
           "yaxis": {
            "backgroundcolor": "#E5ECF6",
            "gridcolor": "white",
            "gridwidth": 2,
            "linecolor": "white",
            "showbackground": true,
            "ticks": "",
            "zerolinecolor": "white"
           },
           "zaxis": {
            "backgroundcolor": "#E5ECF6",
            "gridcolor": "white",
            "gridwidth": 2,
            "linecolor": "white",
            "showbackground": true,
            "ticks": "",
            "zerolinecolor": "white"
           }
          },
          "shapedefaults": {
           "line": {
            "color": "#2a3f5f"
           }
          },
          "ternary": {
           "aaxis": {
            "gridcolor": "white",
            "linecolor": "white",
            "ticks": ""
           },
           "baxis": {
            "gridcolor": "white",
            "linecolor": "white",
            "ticks": ""
           },
           "bgcolor": "#E5ECF6",
           "caxis": {
            "gridcolor": "white",
            "linecolor": "white",
            "ticks": ""
           }
          },
          "title": {
           "x": 0.05
          },
          "xaxis": {
           "automargin": true,
           "gridcolor": "white",
           "linecolor": "white",
           "ticks": "",
           "title": {
            "standoff": 15
           },
           "zerolinecolor": "white",
           "zerolinewidth": 2
          },
          "yaxis": {
           "automargin": true,
           "gridcolor": "white",
           "linecolor": "white",
           "ticks": "",
           "title": {
            "standoff": 15
           },
           "zerolinecolor": "white",
           "zerolinewidth": 2
          }
         }
        },
        "title": {
         "text": "Average Spend per Claim vs Total Spending in 2023 for Medicare Drug Data"
        },
        "xaxis": {
         "anchor": "y",
         "domain": [
          0,
          1
         ],
         "title": {
          "text": "Avg_Spnd_Per_Clm_2023"
         }
        },
        "yaxis": {
         "anchor": "x",
         "domain": [
          0,
          1
         ],
         "title": {
          "text": "Tot_Spndng_2023"
         }
        }
       }
      }
     },
     "metadata": {},
     "output_type": "display_data"
    }
   ],
   "source": [
    "fig = px.scatter(outlier_23_df[outlier_23_df['Mftr_Name'] == 'Overall'], x='Avg_Spnd_Per_Clm_2023', y='Tot_Spndng_2023',\n",
    "                 hover_data=['Brnd_Name', 'Gnrc_Name', 'Mftr_Name'])\n",
    "\n",
    "fig.update_layout(\n",
    "    title='Average Spend per Claim vs Total Spending in 2023 (Overall)',\n",
    ")\n",
    "\n",
    "fig.show()"
   ]
  },
  {
   "cell_type": "code",
   "execution_count": null,
   "id": "f3c0aac0",
   "metadata": {},
   "outputs": [],
   "source": [
    "# --- make a stacked bar chart for 2nd viz?\n"
   ]
  },
  {
   "cell_type": "code",
   "execution_count": null,
   "id": "20668d2e",
   "metadata": {},
   "outputs": [],
   "source": []
  }
 ],
 "metadata": {
  "kernelspec": {
   "display_name": "ds25",
   "language": "python",
   "name": "python3"
  },
  "language_info": {
   "codemirror_mode": {
    "name": "ipython",
    "version": 3
   },
   "file_extension": ".py",
   "mimetype": "text/x-python",
   "name": "python",
   "nbconvert_exporter": "python",
   "pygments_lexer": "ipython3",
   "version": "3.13.5"
  }
 },
 "nbformat": 4,
 "nbformat_minor": 5
}
